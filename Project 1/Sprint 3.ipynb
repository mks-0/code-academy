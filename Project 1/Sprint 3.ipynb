{
 "cells": [
  {
   "cell_type": "code",
   "execution_count": 2,
   "metadata": {},
   "outputs": [
    {
     "name": "stdout",
     "output_type": "stream",
     "text": [
      "6.88 12.8 -0.0\n"
     ]
    }
   ],
   "source": [
    "# Exercise 1\n",
    "import numpy as np\n",
    "a = np.array([8, 12, 16, 24, 4])\n",
    "mean = np.mean(a)\n",
    "summ = round(np.sum(a - mean), 2)\n",
    "print(\"%.2f\" % np.std(a), mean, summ)"
   ]
  },
  {
   "cell_type": "code",
   "execution_count": 11,
   "metadata": {},
   "outputs": [
    {
     "name": "stdout",
     "output_type": "stream",
     "text": [
      "6.88\n",
      "99.45\n"
     ]
    }
   ],
   "source": [
    "# Exercise 2\n",
    "import numpy as np\n",
    "a = [8, 12, 16, 24, 4]\n",
    "b = [8, 12, 16, 78, 24, 4, 300]\n",
    "an = np.array(a)\n",
    "bn = np.array(b)\n",
    "print(\"%.2f\" % np.std(an), \"%.2f\" % np.std(bn), sep='\\n')\n",
    "\n",
    "#If outliers are introduced to the dataset the Standart Deviation will increase"
   ]
  },
  {
   "cell_type": "code",
   "execution_count": null,
   "metadata": {},
   "outputs": [
    {
     "name": "stdout",
     "output_type": "stream",
     "text": [
      "6.88\n",
      "99.45\n"
     ]
    }
   ],
   "source": [
    "# Exercise 3\n",
    "# Suppose the below positively skewed distribution has a median of 30, which of the following statement is true?\n",
    "# Statement E) Both A and D (Mean is greater than 30, Mode is less than 30) is true."
   ]
  },
  {
   "cell_type": "code",
   "execution_count": 14,
   "metadata": {},
   "outputs": [],
   "source": [
    "# Exercise 4\n",
    "# [9, 12, 17, 20, 13, 10, 6, 5, 3]\n",
    "# sorted [3, 5, 6, 9, 10, 12, 13, 17, 20]\n",
    "# count = 9 - odd number\n",
    "# median = 10"
   ]
  },
  {
   "cell_type": "code",
   "execution_count": null,
   "metadata": {},
   "outputs": [],
   "source": [
    "# Exercise 5 - 7\n",
    "# The shape is Skewed Right\n",
    "# [1, 1, 1, 1, 2, 2, 3, 3, 3, 4, 5, 6, 9, 11, 24, 29]\n",
    "# count = 16\n",
    "# median = (3 + 3) / 2 = 3\n",
    "# mean = 105 / 16 = 6.5\n",
    "# individuals that have salary less than 10k, n = 35"
   ]
  },
  {
   "cell_type": "code",
   "execution_count": 75,
   "metadata": {},
   "outputs": [
    {
     "name": "stdout",
     "output_type": "stream",
     "text": [
      "6.5625 3.0 [1]\n",
      "6.625 3.0 [1, 3]\n"
     ]
    }
   ],
   "source": [
    "# Exercise 8\n",
    "def mode(np_array):\n",
    "    bin_count = np.bincount(np_array)\n",
    "    maximum = bin_count.max()\n",
    "    maxs = []\n",
    "    for i in range(len(bin_count)):\n",
    "        if bin_count[i] == maximum:\n",
    "            maxs.append(i)\n",
    "    return maxs\n",
    "\n",
    "a = np.array([1, 1, 1, 1, 2, 2, 3, 3, 3, 4, 5, 6, 9, 11, 24, 29])\n",
    "b = np.array([1, 1, 7, 1, 2, 2, 3, 3, 3, 4, 5, 6, 9, 11, 24, 29])\n",
    "\n",
    "print(np.mean(a), np.median(a), mode(a))\n",
    "print(np.mean(b), np.median(b), mode(b))\n",
    "\n",
    "# Answer is D) All of these (The Mean, the Median and the Mode can change if a single value would be changed)"
   ]
  },
  {
   "cell_type": "code",
   "execution_count": 78,
   "metadata": {},
   "outputs": [
    {
     "name": "stdout",
     "output_type": "stream",
     "text": [
      "2\n",
      "[25, 25, 25, 40, 40, 35, 50, 50, 50, 50]\n",
      "10.44\n"
     ]
    }
   ],
   "source": [
    "# Exercise 9\n",
    "s = np.array([[3, 2, 1, 4], [25, 40, 35, 50]])\n",
    "salaries = []\n",
    "print(s[0, 1])\n",
    "for i in range(len(s[0])):\n",
    "    for j in range(s[0, i]):\n",
    "        salaries.append(s[1, i])\n",
    "print(salaries)\n",
    "print(\"%.2f\" % np.std(salaries))"
   ]
  },
  {
   "cell_type": "code",
   "execution_count": null,
   "metadata": {},
   "outputs": [],
   "source": [
    "# Exercise 10\n",
    "# Which of the following random variables is discrete?\n",
    "# B) the number of pens purchased by a student in a year"
   ]
  },
  {
   "cell_type": "code",
   "execution_count": null,
   "metadata": {},
   "outputs": [],
   "source": [
    "# Exercise 11\n",
    "# B) mu=10, sigma =1.0"
   ]
  },
  {
   "cell_type": "code",
   "execution_count": null,
   "metadata": {},
   "outputs": [],
   "source": [
    "#### 100 Numpy Exercises\n",
    "\n",
    "#### 1. Import the numpy package under the name `np` (★☆☆)\n",
    "import numpy as np"
   ]
  },
  {
   "cell_type": "code",
   "execution_count": null,
   "metadata": {},
   "outputs": [],
   "source": [
    "#### 2. Print the numpy version and the configuration (★☆☆)\n",
    "print(\"#2\\n\", np.version.version)"
   ]
  },
  {
   "cell_type": "code",
   "execution_count": null,
   "metadata": {},
   "outputs": [],
   "source": [
    "#### 3. Create a null vector of size 10 (★☆☆)\n",
    "vec = np.zeros(10)\n",
    "print(\"#3\\n\", vec)"
   ]
  },
  {
   "cell_type": "code",
   "execution_count": null,
   "metadata": {},
   "outputs": [],
   "source": [
    "#### 4. How to find the memory size of any array (★☆☆)\n",
    "print(\"#4\\n\", vec.size)"
   ]
  },
  {
   "cell_type": "code",
   "execution_count": null,
   "metadata": {},
   "outputs": [],
   "source": [
    "#### 5. How to get the documentation of the numpy add function from the command line? (★☆☆)\n",
    "# print(np.info(np.add))"
   ]
  },
  {
   "cell_type": "code",
   "execution_count": null,
   "metadata": {},
   "outputs": [],
   "source": [
    "#### 6. Create a null vector of size 10 but the fifth value which is 1 (★☆☆)\n",
    "vec[4] = 1\n",
    "print(\"#6\\n\", vec)\n"
   ]
  },
  {
   "cell_type": "code",
   "execution_count": null,
   "metadata": {},
   "outputs": [],
   "source": [
    "#### 7. Create a vector with values ranging from 10 to 49 (★☆☆)\n",
    "ar_range = np.arange(10, 50)\n",
    "print(\"#7\\n\", ar_range)\n"
   ]
  },
  {
   "cell_type": "code",
   "execution_count": null,
   "metadata": {},
   "outputs": [],
   "source": [
    "#### 8. Reverse a vector (first element becomes last) (★☆☆)\n",
    "print(\"#8\\n\", np.flip(ar_range))"
   ]
  },
  {
   "cell_type": "code",
   "execution_count": null,
   "metadata": {},
   "outputs": [],
   "source": [
    "#### 9. Create a 3x3 matrix with values ranging from 0 to 8 (★☆☆)\n",
    "matrx = np.arange(9).reshape((3, 3))\n",
    "print(\"#9\\n\", matrx)\n"
   ]
  },
  {
   "cell_type": "code",
   "execution_count": null,
   "metadata": {},
   "outputs": [],
   "source": [
    "#### 10. Find indices of non-zero elements from [1,2,0,0,4,0] (★☆☆)\n",
    "arr = np.array([1, 2, 0, 0, 4, 0])\n",
    "print(\"#10\\n\", np.where(arr != 0)[0])\n"
   ]
  },
  {
   "cell_type": "code",
   "execution_count": null,
   "metadata": {},
   "outputs": [],
   "source": [
    "#### 11. Create a 3x3 identity matrix (★☆☆)\n",
    "print(\"#11\\n\",np.identity(3))"
   ]
  },
  {
   "cell_type": "code",
   "execution_count": null,
   "metadata": {},
   "outputs": [],
   "source": [
    "#### 12. Create a 3x3x3 array with random values (★☆☆)\n",
    "print(\"#12\\n\",np.random.randint(1, 10, (3, 3, 3)))"
   ]
  },
  {
   "cell_type": "code",
   "execution_count": null,
   "metadata": {},
   "outputs": [],
   "source": [
    "#### 13. Create a 10x10 array with random values and find the minimum and maximum values (★☆☆)\n",
    "rand_arr = np.random.randint(1, 100, (10, 10))\n",
    "print(\"#13\\n\",rand_arr)\n",
    "print(\"Max is \", np.max(rand_arr))\n",
    "print(\"Min is \", np.min(rand_arr))\n"
   ]
  },
  {
   "cell_type": "code",
   "execution_count": null,
   "metadata": {},
   "outputs": [],
   "source": [
    "#### 14. Create a random vector of size 30 and find the mean value (★☆☆)\n",
    "r_vec = np.random.randint(1, 100, (30))\n",
    "print(\"#14\\n\", r_vec)\n",
    "print(\"%.2f\" % np.mean(r_vec))"
   ]
  },
  {
   "cell_type": "code",
   "execution_count": null,
   "metadata": {},
   "outputs": [],
   "source": [
    "#### 15. Create a 2d array with 1 on the border and 0 inside (★☆☆)\n",
    "arr_1 = np.zeros((5, 5))\n",
    "# arr_1[0, :] = 1\n",
    "# arr_1[:, 0] = 1\n",
    "# arr_1[-1, :] = 1\n",
    "# arr_1[:, -1] = 1\n",
    "b_arr = np.pad(arr_1, pad_width=1, mode='constant', constant_values = 1)\n",
    "print(\"#15\\n\", b_arr)"
   ]
  },
  {
   "cell_type": "code",
   "execution_count": null,
   "metadata": {},
   "outputs": [],
   "source": [
    "#### 16. How to add a border (filled with 0's) around an existing array? (★☆☆)\n",
    "arr_1 = np.ones((3, 3))\n",
    "b_arr = np.pad(arr_1, pad_width=1, mode='constant', constant_values = 0)\n",
    "print(\"#16\\n\", b_arr)\n"
   ]
  },
  {
   "cell_type": "code",
   "execution_count": null,
   "metadata": {},
   "outputs": [],
   "source": [
    "#### 17. What is the result of the following expression? (★☆☆)\n",
    "print(\"#17\\n\", 0 * np.nan)\n",
    "print(np.nan == np.nan)\n",
    "print(np.inf > np.nan)\n",
    "print(np.nan - np.nan)\n",
    "print(np.nan in set([np.nan]))\n",
    "print(0.3 == 3 * 0.1)"
   ]
  },
  {
   "cell_type": "code",
   "execution_count": null,
   "metadata": {},
   "outputs": [],
   "source": [
    "#### 18. Create a 5x5 matrix with values 1,2,3,4 just below the diagonal (★☆☆)\n",
    "a = np.zeros((5, 5))\n",
    "d = np.array([1, 2, 3, 4])\n",
    "np.fill_diagonal(a, d, wrap=True)\n",
    "print(\"#18\\n\", a)\n"
   ]
  },
  {
   "cell_type": "code",
   "execution_count": null,
   "metadata": {},
   "outputs": [],
   "source": [
    "#### 19. Create a 8x8 matrix and fill it with a checkerboard pattern (★☆☆)\n",
    "a = np.zeros((8,8))\n",
    "a[::2, ::2] = 1\n",
    "a[1::2, 1::2] = 1\n",
    "print(\"#19\\n\", a)"
   ]
  },
  {
   "cell_type": "code",
   "execution_count": null,
   "metadata": {},
   "outputs": [],
   "source": [
    "#### 20. Consider a (6,7,8) shape array, what is the index (x,y,z) of the 100th element? (★☆☆)\n",
    "print(\"#20\\n\", np.unravel_index(99,(6,7,8)))"
   ]
  },
  {
   "cell_type": "code",
   "execution_count": null,
   "metadata": {},
   "outputs": [],
   "source": [
    "#### 21. Create a checkerboard 8x8 matrix using the tile function (★☆☆)\n",
    "a = np.array([[0, 1], [1, 0]])\n",
    "b = np.tile(a, (4, 4))\n",
    "print(\"#21\\n\", b)"
   ]
  },
  {
   "cell_type": "code",
   "execution_count": null,
   "metadata": {},
   "outputs": [],
   "source": [
    "#### 22. Normalize a 5x5 random matrix (★☆☆)\n",
    "import math\n",
    "a = np.random.randint(0, 20, (5, 5))\n",
    "n_a = a / np.linalg.norm(a)\n",
    "print(\"#22\\n\", n_a)\n",
    "print(a / math.sqrt(np.sum(a ** 2)))"
   ]
  },
  {
   "cell_type": "code",
   "execution_count": null,
   "metadata": {},
   "outputs": [],
   "source": [
    "#### 23. Create a custom dtype that describes a color as four unsigned bytes (RGBA) (★☆☆)\n",
    "dtype_rgba = np.dtype([('R', np.uint8), ('G', np.uint8), ('B', np.uint8), ('A', np.uint8)])\n",
    "colors = np.array([[255, 0, 0, 255], [255, 0, 0, 255], [255, 0, 0, 255], [255, 0, 0, 255]], dtype=np.uint8)\n",
    "print(\"#23\\n\", colors, \"\\n\", dtype_rgba.names)\n"
   ]
  },
  {
   "cell_type": "code",
   "execution_count": null,
   "metadata": {},
   "outputs": [],
   "source": [
    "#### 24. Multiply a 5x3 matrix by a 3x2 matrix (real matrix product) (★☆☆)\n",
    "a = np.random.randint(0, 10, (5, 3))\n",
    "b = np.random.randint(0, 10, (3, 2))\n",
    "print(\"#24\\n\", np.matmul(a, b))\n"
   ]
  },
  {
   "cell_type": "code",
   "execution_count": null,
   "metadata": {},
   "outputs": [],
   "source": [
    "#### 25. Given a 1D array, negate all elements which are between 3 and 8, in place. (★☆☆)\n",
    "a = np.random.randint(1, 20, (10))\n",
    "a[(a > 3) & (a < 8)] *= -1\n",
    "print(\"#25\\n\", a)"
   ]
  },
  {
   "cell_type": "code",
   "execution_count": null,
   "metadata": {},
   "outputs": [],
   "source": [
    "#### 26. What is the output of the following script? (★☆☆)\n",
    "# print(sum(range(5),-1))\n",
    "# from numpy import *\n",
    "# print(sum(range(5),-1))\n"
   ]
  },
  {
   "cell_type": "code",
   "execution_count": null,
   "metadata": {},
   "outputs": [],
   "source": [
    "#### 27. Consider an integer vector Z, which of these expressions are legal? (★☆☆)\n",
    "Z = np.random.randint(1, 10, (10))\n",
    "# print(Z**Z)\n",
    "# print(2 << Z >> 2)\n",
    "# print(Z <- Z)\n",
    "# print(1j*Z)\n",
    "# print(Z/1/1)\n",
    "# print(Z<Z>Z)"
   ]
  },
  {
   "cell_type": "code",
   "execution_count": null,
   "metadata": {},
   "outputs": [],
   "source": [
    "#### 28. What are the result of the following expressions? (★☆☆)\n",
    "# np.array(0) / np.array(0)\n",
    "# np.array(0) // np.array(0)\n",
    "# np.array([np.nan]).astype(int).astype(float)"
   ]
  },
  {
   "cell_type": "code",
   "execution_count": null,
   "metadata": {},
   "outputs": [],
   "source": [
    "#### 29. How to round away from zero a float array ? (★☆☆)\n",
    "\n",
    "# SKIPPED"
   ]
  },
  {
   "cell_type": "code",
   "execution_count": null,
   "metadata": {},
   "outputs": [],
   "source": [
    "#### 30. How to find common values between two arrays? (★☆☆)\n",
    "a = np.random.randint(1, 10, (10))\n",
    "b = np.random.randint(1, 10, (10))\n",
    "print(\"#30\\n\", a, \"\\n\", b)\n",
    "print(np.intersect1d(a, b))"
   ]
  },
  {
   "cell_type": "code",
   "execution_count": 138,
   "metadata": {},
   "outputs": [
    {
     "data": {
      "text/plain": [
       "{'divide': 'warn', 'over': 'warn', 'under': 'ignore', 'invalid': 'warn'}"
      ]
     },
     "execution_count": 138,
     "metadata": {},
     "output_type": "execute_result"
    }
   ],
   "source": [
    "#### 31. How to ignore all numpy warnings (not recommended)? (★☆☆)\n",
    "# np.seterr(all=\"ignore\")"
   ]
  },
  {
   "cell_type": "code",
   "execution_count": 5,
   "metadata": {},
   "outputs": [
    {
     "name": "stdout",
     "output_type": "stream",
     "text": [
      "1j\n"
     ]
    }
   ],
   "source": [
    "#### 32. Is the following expressions true? (★☆☆)\n",
    "print(np.sqrt(-1) == np.emath.sqrt(-1))\n"
   ]
  },
  {
   "cell_type": "code",
   "execution_count": 23,
   "metadata": {},
   "outputs": [
    {
     "name": "stdout",
     "output_type": "stream",
     "text": [
      "2023-08-02 2023-08-03 2023-08-04\n"
     ]
    }
   ],
   "source": [
    "#### 33. How to get the dates of yesterday, today and tomorrow? (★☆☆)\n",
    "today = np.datetime64('today')\n",
    "yesterday = today - np.timedelta64(1, 'D')\n",
    "tomorrow = np.datetime64('today') + np.timedelta64(1, 'D')\n",
    "print(yesterday, today, tomorrow)"
   ]
  },
  {
   "cell_type": "code",
   "execution_count": 30,
   "metadata": {},
   "outputs": [
    {
     "name": "stdout",
     "output_type": "stream",
     "text": [
      "['2016-07-01' '2016-07-02' '2016-07-03' '2016-07-04' '2016-07-05'\n",
      " '2016-07-06' '2016-07-07' '2016-07-08' '2016-07-09' '2016-07-10'\n",
      " '2016-07-11' '2016-07-12' '2016-07-13' '2016-07-14' '2016-07-15'\n",
      " '2016-07-16' '2016-07-17' '2016-07-18' '2016-07-19' '2016-07-20'\n",
      " '2016-07-21' '2016-07-22' '2016-07-23' '2016-07-24' '2016-07-25'\n",
      " '2016-07-26' '2016-07-27' '2016-07-28' '2016-07-29' '2016-07-30'\n",
      " '2016-07-31']\n"
     ]
    }
   ],
   "source": [
    "#### 34. How to get all the dates corresponding to the month of July 2016? (★★☆)\n",
    "dates = np.arange(np.datetime64(\"2016-07-01\"), np.datetime64(\"2016-08-01\"), np.timedelta64(1, \"D\"))\n",
    "print(dates)"
   ]
  },
  {
   "cell_type": "code",
   "execution_count": 41,
   "metadata": {},
   "outputs": [
    {
     "name": "stdout",
     "output_type": "stream",
     "text": [
      "[-1.5 -1.5 -1.5]\n"
     ]
    }
   ],
   "source": [
    "#### 35. How to compute ((A+B)*(-A/2)) in place (without copy)? (★★☆)\n",
    "A = np.ones(3)\n",
    "B = np.ones(3)*2\n",
    "np.add(A, B, out=B)\n",
    "np.divide(A, 2, out=A)\n",
    "np.negative(A, out=A)\n",
    "np.multiply(A, B, out=A)\n",
    "print(A)"
   ]
  },
  {
   "cell_type": "code",
   "execution_count": 54,
   "metadata": {},
   "outputs": [
    {
     "name": "stdout",
     "output_type": "stream",
     "text": [
      "[4.46099971 2.79682291 8.84368268 6.05596146 1.56392679 8.26703914\n",
      " 3.69557319 5.85112025 1.28352027 1.36601964]\n",
      "[4 2 8 6 1 8 3 5 1 1]\n",
      "[4. 2. 8. 6. 1. 8. 3. 5. 1. 1.]\n",
      "[4. 2. 8. 6. 1. 8. 3. 5. 1. 1.]\n",
      "[4. 2. 8. 6. 1. 8. 3. 5. 1. 1.]\n",
      "[4. 2. 8. 6. 1. 8. 3. 5. 1. 1.]\n"
     ]
    }
   ],
   "source": [
    "#### 36. Extract the integer part of a random array of positive numbers using 4 different methods (★★☆)\n",
    "a = np.random.uniform(1, 10, (10))\n",
    "print(a)\n",
    "print(a.astype(int))\n",
    "print(np.modf(a)[1])\n",
    "print(np.floor(a))\n",
    "print(a // 1)\n",
    "print(a - a%1)"
   ]
  },
  {
   "cell_type": "code",
   "execution_count": 68,
   "metadata": {},
   "outputs": [
    {
     "name": "stdout",
     "output_type": "stream",
     "text": [
      "[[0 1 2 3 4]\n",
      " [0 1 2 3 4]\n",
      " [0 1 2 3 4]\n",
      " [0 1 2 3 4]\n",
      " [0 1 2 3 4]]\n"
     ]
    }
   ],
   "source": [
    "#### 37. Create a 5x5 matrix with row values ranging from 0 to 4 (★★☆)\n",
    "a = np.mgrid[0:5, 0:5][1]\n",
    "print(a)"
   ]
  },
  {
   "cell_type": "code",
   "execution_count": 91,
   "metadata": {},
   "outputs": [
    {
     "name": "stdout",
     "output_type": "stream",
     "text": [
      "[ 3  1  4  5 10  1  9  4  8  3]\n"
     ]
    }
   ],
   "source": [
    "#### 38. Consider a generator function that generates 10 integers and use it to build an array (★☆☆)\n",
    "import random\n",
    "\n",
    "def int_gen(n):\n",
    "    for i in range(n):\n",
    "        yield random.randint(1, 10)\n",
    "\n",
    "a = np.fromiter(int_gen(10), int)\n",
    "print(a)"
   ]
  },
  {
   "cell_type": "code",
   "execution_count": 95,
   "metadata": {},
   "outputs": [
    {
     "name": "stdout",
     "output_type": "stream",
     "text": [
      "[0.1 0.2 0.3 0.4 0.5 0.6 0.7 0.8 0.9]\n"
     ]
    }
   ],
   "source": [
    "#### 39. Create a vector of size 10 with values ranging from 0 to 1, both excluded (★★☆)\n",
    "a = np.linspace(0, 1, 10, endpoint=False)[1:]\n",
    "print(a)"
   ]
  },
  {
   "cell_type": "code",
   "execution_count": 98,
   "metadata": {},
   "outputs": [
    {
     "name": "stdout",
     "output_type": "stream",
     "text": [
      "[0.06966401 0.20458523 0.21284585 0.5081308  0.53986481 0.55498317\n",
      " 0.58868033 0.76549603 0.89629203 0.99323261]\n"
     ]
    }
   ],
   "source": [
    "#### 40. Create a random vector of size 10 and sort it (★★☆)\n",
    "a = np.random.random(10)\n",
    "print(np.sort(a))"
   ]
  },
  {
   "cell_type": "code",
   "execution_count": null,
   "metadata": {},
   "outputs": [],
   "source": [
    "#### 41. How to sum a small array faster than np.sum? (★★☆)\n",
    "\n",
    "# SKIPPED"
   ]
  },
  {
   "cell_type": "code",
   "execution_count": 6,
   "metadata": {},
   "outputs": [
    {
     "name": "stdout",
     "output_type": "stream",
     "text": [
      "True\n"
     ]
    }
   ],
   "source": [
    "#### 42. Consider two random array A and B, check if they are equal (★★☆)\n",
    "a = np.array([[1, 2, 5, 5 ,5, 8], [2, 3, 4, 1, 0, 9]])\n",
    "b = np.array([[1, 2, 5, 5 ,5, 8], [2, 3, 4, 1, 0, 9]])\n",
    "print(np.array_equal(a, b))"
   ]
  },
  {
   "cell_type": "code",
   "execution_count": 9,
   "metadata": {},
   "outputs": [],
   "source": [
    "#### 43. Make an array immutable (read-only) (★★☆)\n",
    "a = np.array([[1, 2, 5, 5 ,5, 8], [2, 3, 4, 1, 0, 9]])\n",
    "a.flags.writeable = False"
   ]
  },
  {
   "cell_type": "code",
   "execution_count": 27,
   "metadata": {},
   "outputs": [
    {
     "name": "stdout",
     "output_type": "stream",
     "text": [
      "[[5 9]\n",
      " [8 4]\n",
      " [5 4]\n",
      " [4 1]\n",
      " [8 5]\n",
      " [3 5]\n",
      " [1 8]\n",
      " [4 4]\n",
      " [5 1]\n",
      " [4 9]]\n",
      "[[10.29563014  1.06369782]\n",
      " [ 8.94427191  0.46364761]\n",
      " [ 6.40312424  0.67474094]\n",
      " [ 4.12310563  0.24497866]\n",
      " [ 9.43398113  0.55859932]\n",
      " [ 5.83095189  1.03037683]\n",
      " [ 8.06225775  1.44644133]\n",
      " [ 5.65685425  0.78539816]\n",
      " [ 5.09901951  0.19739556]\n",
      " [ 9.8488578   1.152572  ]]\n"
     ]
    }
   ],
   "source": [
    "#### 44. Consider a random 10x2 matrix representing cartesian coordinates, convert them to polar coordinates (★★☆)\n",
    "c = np.random.randint(1, 10, (10, 2))\n",
    "print(c)\n",
    "p = np.transpose(np.vstack((np.sqrt(c[:, 0]**2 + c[:, 1]**2), np.arctan2(c[:, 1], c[:, 0]))))\n",
    "print(p)"
   ]
  },
  {
   "cell_type": "code",
   "execution_count": 41,
   "metadata": {},
   "outputs": [
    {
     "name": "stdout",
     "output_type": "stream",
     "text": [
      "[4 8 3 7 8 2 0 7 7 5]\n",
      "[4 0 3 7 0 2 0 7 7 5]\n"
     ]
    }
   ],
   "source": [
    "#### 45. Create random vector of size 10 and replace the maximum value by 0 (★★☆)\n",
    "a = np.random.randint(0, 10, (10))\n",
    "print(a)\n",
    "a[np.where(a == a.max())[0]] = 0\n",
    "print(a)\n"
   ]
  }
 ],
 "metadata": {
  "kernelspec": {
   "display_name": "base",
   "language": "python",
   "name": "python3"
  },
  "language_info": {
   "codemirror_mode": {
    "name": "ipython",
    "version": 3
   },
   "file_extension": ".py",
   "mimetype": "text/x-python",
   "name": "python",
   "nbconvert_exporter": "python",
   "pygments_lexer": "ipython3",
   "version": "3.11.3"
  },
  "orig_nbformat": 4
 },
 "nbformat": 4,
 "nbformat_minor": 2
}
