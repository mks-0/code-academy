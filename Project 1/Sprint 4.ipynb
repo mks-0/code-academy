{
 "cells": [
  {
   "cell_type": "code",
   "execution_count": 44,
   "metadata": {},
   "outputs": [],
   "source": [
    "import numpy as np\n",
    "import pandas as pd\n",
    "import random\n",
    "\n",
    "df = pd.read_csv('Sprint 1 - Movies Data Set Analysis/movies.csv') # Gathering data\n",
    "df = df.drop(columns=['Summary']) # remove the column \"Summary\"\n",
    "df.columns = df.columns.str.lower().str.replace(' ', '_') # Make all the column names lowercase and replace spaces with underscores\n",
    "df.drop(df.tail(1).index, inplace=True) # Remove the last row of the DF (containing NaNs)"
   ]
  },
  {
   "cell_type": "code",
   "execution_count": 45,
   "metadata": {},
   "outputs": [
    {
     "name": "stdout",
     "output_type": "stream",
     "text": [
      "   movieid                       title mpaa_rating      budget        gross  \\\n",
      "0        1          Look Who's Talking       PG-13   7500000.0  296000000.0   \n",
      "1        2          Driving Miss Daisy          PG   7500000.0  145793296.0   \n",
      "2        3              Turner & Hooch          PG  13000000.0   71079915.0   \n",
      "3        4  Born on the Fourth of July           R  14000000.0  161001698.0   \n",
      "4        5             Field of Dreams          PG  15000000.0   84431625.0   \n",
      "\n",
      "  release_date    genre  runtime  rating  rating_count  \n",
      "0   1989-10-12  Romance     93.0     5.9       73638.0  \n",
      "1   1989-12-13   Comedy     99.0     7.4       91075.0  \n",
      "2   1989-07-28    Crime    100.0     7.2       91415.0  \n",
      "3   1989-12-20      War    145.0     7.2       91415.0  \n",
      "4   1989-04-21    Drama    107.0     7.5      101702.0  \n"
     ]
    }
   ],
   "source": [
    "print(df.head(5)) # See the first five rows of the Data Frame"
   ]
  },
  {
   "cell_type": "code",
   "execution_count": 46,
   "metadata": {},
   "outputs": [],
   "source": [
    "def nan_rand_fill(data, key):\n",
    "    x = []\n",
    "    for i in range(0, data[key].isna().sum()):\n",
    "        x.append(abs(round(random.uniform((data[key].mean() - 2 * data[key].std()), (data[key].mean() + 2 * data[key].std())), 1)))\n",
    "    df.loc[data[key].isna(), key] = [i for i in x]\n",
    "\n",
    "nan_rand_fill(df, 'rating')\n",
    "nan_rand_fill(df, 'rating_count')"
   ]
  },
  {
   "cell_type": "code",
   "execution_count": 47,
   "metadata": {},
   "outputs": [
    {
     "name": "stdout",
     "output_type": "stream",
     "text": [
      "     movieid                                  title mpaa_rating       budget  \\\n",
      "610      611         Godzilla: King of the Monsters       PG-13  200000000.0   \n",
      "611      612                            Toy Story 4           G  200000000.0   \n",
      "612      613  Fast & Furious Presents: Hobbs & Shaw       PG-13  200000000.0   \n",
      "613      614                          The Lion King          PG  250000000.0   \n",
      "614      615                      Avengers: Endgame       PG-13  356000000.0   \n",
      "\n",
      "            gross release_date      genre  runtime  rating  rating_count  \n",
      "610  3.859000e+08   2019-05-13  Adventure    132.0     7.4      215066.9  \n",
      "611  1.062000e+09   2019-06-11  Animation    100.0     5.3      707426.3  \n",
      "612  7.594000e+08   2019-07-13   Thriller    136.0     5.5      390347.0  \n",
      "613  1.632000e+09   2019-07-09      Drama    118.0     6.8      308783.1  \n",
      "614  2.796000e+09   2019-04-22     Action    181.0     5.6      805758.0  \n"
     ]
    }
   ],
   "source": [
    "print(df.tail(5)) # See the first five rows of the Data Frame"
   ]
  },
  {
   "cell_type": "code",
   "execution_count": 48,
   "metadata": {},
   "outputs": [
    {
     "name": "stdout",
     "output_type": "stream",
     "text": [
      "(615, 10)\n"
     ]
    }
   ],
   "source": [
    "print(df.shape) # Shape of the Data Frame"
   ]
  },
  {
   "cell_type": "code",
   "execution_count": 49,
   "metadata": {},
   "outputs": [
    {
     "name": "stdout",
     "output_type": "stream",
     "text": [
      "movieid           int64\n",
      "title            object\n",
      "mpaa_rating      object\n",
      "budget          float64\n",
      "gross           float64\n",
      "release_date     object\n",
      "genre            object\n",
      "runtime         float64\n",
      "rating          float64\n",
      "rating_count    float64\n",
      "dtype: object\n"
     ]
    }
   ],
   "source": [
    "print(df.dtypes) # Column names with their data types"
   ]
  },
  {
   "cell_type": "code",
   "execution_count": 50,
   "metadata": {},
   "outputs": [
    {
     "name": "stdout",
     "output_type": "stream",
     "text": [
      "Index(['movieid', 'title', 'mpaa_rating', 'budget', 'gross', 'release_date',\n",
      "       'genre', 'runtime', 'rating', 'rating_count'],\n",
      "      dtype='object')\n"
     ]
    }
   ],
   "source": [
    "print(df.columns) # Column names"
   ]
  },
  {
   "cell_type": "code",
   "execution_count": 51,
   "metadata": {},
   "outputs": [
    {
     "name": "stdout",
     "output_type": "stream",
     "text": [
      "movieid         0\n",
      "title           0\n",
      "mpaa_rating     0\n",
      "budget          0\n",
      "gross           0\n",
      "release_date    0\n",
      "genre           0\n",
      "runtime         0\n",
      "rating          0\n",
      "rating_count    0\n",
      "dtype: int64\n"
     ]
    }
   ],
   "source": [
    "print(df.isna().sum()) # Column names with their NaN count"
   ]
  }
 ],
 "metadata": {
  "kernelspec": {
   "display_name": "base",
   "language": "python",
   "name": "python3"
  },
  "language_info": {
   "codemirror_mode": {
    "name": "ipython",
    "version": 3
   },
   "file_extension": ".py",
   "mimetype": "text/x-python",
   "name": "python",
   "nbconvert_exporter": "python",
   "pygments_lexer": "ipython3",
   "version": "3.11.3"
  },
  "orig_nbformat": 4
 },
 "nbformat": 4,
 "nbformat_minor": 2
}
