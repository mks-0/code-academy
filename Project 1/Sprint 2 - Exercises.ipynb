{
 "cells": [
  {
   "cell_type": "code",
   "execution_count": 1,
   "metadata": {},
   "outputs": [
    {
     "name": "stdout",
     "output_type": "stream",
     "text": [
      "Milan\n"
     ]
    }
   ],
   "source": [
    "#Exercise 1\n",
    "\n",
    "my_name = \"Milan\"\n",
    "print(my_name)"
   ]
  },
  {
   "cell_type": "code",
   "execution_count": 2,
   "metadata": {},
   "outputs": [
    {
     "name": "stdout",
     "output_type": "stream",
     "text": [
      "26\n"
     ]
    }
   ],
   "source": [
    "#Exercise 2\n",
    "\n",
    "age = 26\n",
    "print(age)"
   ]
  },
  {
   "cell_type": "code",
   "execution_count": 3,
   "metadata": {},
   "outputs": [
    {
     "name": "stdout",
     "output_type": "stream",
     "text": [
      "-6\n"
     ]
    }
   ],
   "source": [
    "#Exercise 3\n",
    "\n",
    "julia_age = 32\n",
    "age_diff = age - julia_age\n",
    "print(age_diff)"
   ]
  },
  {
   "cell_type": "code",
   "execution_count": 4,
   "metadata": {},
   "outputs": [
    {
     "name": "stdout",
     "output_type": "stream",
     "text": [
      "You are older than 21\n"
     ]
    }
   ],
   "source": [
    "#Exercise 4\n",
    "\n",
    "if age > 21:\n",
    "    print(\"You are older than 21\")\n",
    "else:\n",
    "    print(\"You are younger than 21\")"
   ]
  },
  {
   "cell_type": "code",
   "execution_count": 64,
   "metadata": {},
   "outputs": [
    {
     "name": "stdout",
     "output_type": "stream",
     "text": [
      "Arjun\n",
      "Yazdan\n",
      "Arjun\n",
      "Chris\n",
      "Killian\n",
      "Milan\n",
      "Muayad\n",
      "Okan\n",
      "Rob\n",
      "Susan\n",
      "Yazdan\n"
     ]
    }
   ],
   "source": [
    "#Exercise 6\n",
    "\n",
    "name_list = [\"Killian\", \"Muayad\", \"Chris\", \"Milan\", \"Okan\", \"Rob\", \"Susan\", \"Yazdan\", \"Arjun\"]\n",
    "name_list.sort()\n",
    "print(name_list[0])\n",
    "print(name_list[-1])\n",
    "for n in name_list:\n",
    "    print(n)\n"
   ]
  },
  {
   "cell_type": "code",
   "execution_count": 17,
   "metadata": {},
   "outputs": [
    {
     "name": "stdout",
     "output_type": "stream",
     "text": [
      "26\n",
      "39\n",
      "23\n",
      "37\n",
      "38\n",
      "34\n",
      "\n",
      "\n",
      "26\n",
      "38\n",
      "34\n"
     ]
    }
   ],
   "source": [
    "#Exercise 7\n",
    "\n",
    "ages = [26, 39, 23, 37, 38, 34]\n",
    "for a in ages:\n",
    "    print(a)\n",
    "print(\"\\n\")    \n",
    "for a in ages:\n",
    "    if a % 2 == 0:\n",
    "        print(a)\n"
   ]
  },
  {
   "cell_type": "code",
   "execution_count": 18,
   "metadata": {},
   "outputs": [
    {
     "name": "stdout",
     "output_type": "stream",
     "text": [
      "6\n"
     ]
    }
   ],
   "source": [
    "#Exercise 8\n",
    "\n",
    "number_list = [45, 63, 313, 556, 323, 88, 6, 90]\n",
    "print(min(number_list))"
   ]
  },
  {
   "cell_type": "code",
   "execution_count": 19,
   "metadata": {},
   "outputs": [
    {
     "name": "stdout",
     "output_type": "stream",
     "text": [
      "556\n"
     ]
    }
   ],
   "source": [
    "#Exercise 9\n",
    "\n",
    "print(max(number_list))"
   ]
  },
  {
   "cell_type": "code",
   "execution_count": 25,
   "metadata": {},
   "outputs": [
    {
     "name": "stdout",
     "output_type": "stream",
     "text": [
      "24\n",
      "28\n",
      "18\n",
      "13\n",
      "16\n",
      "17\n",
      "29\n",
      "27\n",
      "44\n",
      "15\n"
     ]
    }
   ],
   "source": [
    "#Exercise 10\n",
    "\n",
    "from datetime import date \n",
    "yob_list = [1999, 1995, 2005, 2010, 2007, 2006, 1994, 1996, 1979, 2008]\n",
    "for year in yob_list:\n",
    "    print(date.today().year - year)"
   ]
  },
  {
   "cell_type": "code",
   "execution_count": 54,
   "metadata": {},
   "outputs": [
    {
     "name": "stdout",
     "output_type": "stream",
     "text": [
      "Bob is 1999 years old\n",
      "Jack is 1995 years old\n",
      "Lisa is 2005 years old\n",
      "Maria is 2010 years old\n",
      "Ben is 2007 years old\n",
      "Emma is 2006 years old\n",
      "Oscar is 1994 years old\n",
      "Amy is 1996 years old\n",
      "Paul is 1979 years old\n",
      "Etta is 2008 years old\n"
     ]
    }
   ],
   "source": [
    "#Exercise 11\n",
    "\n",
    "customer_list = [\n",
    "                    {\"name\": \"Bob\", \"age\": 1999},\n",
    "                    {\"name\": \"Jack\", \"age\": 1995},\n",
    "                    {\"name\": \"Lisa\", \"age\": 2005},\n",
    "                    {\"name\": \"Maria\", \"age\": 2010},\n",
    "                    {\"name\": \"Ben\", \"age\": 2007},\n",
    "                    {\"name\": \"Emma\", \"age\": 2006},\n",
    "                    {\"name\": \"Oscar\", \"age\": 1994},\n",
    "                    {\"name\": \"Amy\", \"age\": 1996},\n",
    "                    {\"name\": \"Paul\", \"age\": 1979},\n",
    "                    {\"name\": \"Etta\", \"age\": 2008}\n",
    "                ]\n",
    "\n",
    "def years_old(dict):\n",
    "    for customer in dict:\n",
    "        print(f\"{customer['name']} is {customer['age']} years old\")\n",
    "\n",
    "years_old(customer_list)\n"
   ]
  },
  {
   "cell_type": "code",
   "execution_count": 55,
   "metadata": {},
   "outputs": [
    {
     "name": "stdout",
     "output_type": "stream",
     "text": [
      "20\n",
      "24\n",
      "14\n",
      "12\n",
      "13\n",
      "25\n",
      "23\n",
      "11\n"
     ]
    }
   ],
   "source": [
    "#Exercise 12\n",
    "\n",
    "def remove_yo(list):\n",
    "    list.remove(max(list))\n",
    "    list.remove(min(list))\n",
    "    for age in list:\n",
    "        print(age)\n",
    "\n",
    "ages = [20, 24, 14, 9, 12, 13, 25, 23, 40, 11]\n",
    "\n",
    "remove_yo(ages)\n"
   ]
  },
  {
   "cell_type": "code",
   "execution_count": 56,
   "metadata": {},
   "outputs": [
    {
     "name": "stdout",
     "output_type": "stream",
     "text": [
      "15\n",
      "13\n",
      "16\n",
      "18\n",
      "19\n",
      "10\n"
     ]
    }
   ],
   "source": [
    "#Exercise 13\n",
    "\n",
    "def common_age(list_a, list_b):\n",
    "    common_ages = []\n",
    "\n",
    "    for i in list_a:\n",
    "        for j in list_b:\n",
    "            if i == j:\n",
    "                common_ages.append(i)\n",
    "    \n",
    "    return common_ages\n",
    "\n",
    "berlin = [15, 13, 16, 18, 19, 10, 12 ]\n",
    "munich = [7, 13, 15, 20, 19, 18, 10, 16]\n",
    "\n",
    "for age in common_age(berlin, munich):\n",
    "    print(age)\n"
   ]
  },
  {
   "cell_type": "code",
   "execution_count": 58,
   "metadata": {},
   "outputs": [
    {
     "name": "stdout",
     "output_type": "stream",
     "text": [
      "15\n",
      "13\n",
      "16\n",
      "18\n",
      "19\n",
      "10\n"
     ]
    }
   ],
   "source": [
    "#Exercise 14\n",
    "\n",
    "def remove_dups(list):\n",
    "    new_list = []\n",
    "    [new_list.append(age) for age in list if age not in new_list]\n",
    "    return new_list\n",
    "\n",
    "age_list = [15,13,16,18,19,15,10]\n",
    "\n",
    "# for age in age_list:\n",
    "#     if age not in new_list:\n",
    "#         new_list.append(age)\n",
    "\n",
    "for age in remove_dups(age_list):\n",
    "    print(age)\n",
    "    "
   ]
  },
  {
   "cell_type": "code",
   "execution_count": 49,
   "metadata": {},
   "outputs": [
    {
     "name": "stdout",
     "output_type": "stream",
     "text": [
      "Welcome Sarah, have a nice day!\n"
     ]
    }
   ],
   "source": [
    "#Exercise 15\n",
    "\n",
    "def welcome(name):\n",
    "    print(f\"Welcome {name}, have a nice day!\")\n",
    "\n",
    "welcome(\"Sarah\")"
   ]
  },
  {
   "cell_type": "code",
   "execution_count": 50,
   "metadata": {},
   "outputs": [
    {
     "name": "stdout",
     "output_type": "stream",
     "text": [
      "5\n"
     ]
    }
   ],
   "source": [
    "#Exercise 16\n",
    "\n",
    "def get_length(str):\n",
    "    print(len(str))\n",
    "\n",
    "get_length(\"Hello\")"
   ]
  },
  {
   "cell_type": "code",
   "execution_count": 53,
   "metadata": {},
   "outputs": [
    {
     "name": "stdout",
     "output_type": "stream",
     "text": [
      "Yes\n",
      "No\n"
     ]
    }
   ],
   "source": [
    "#Exercise  17\n",
    "\n",
    "def check_even(i):\n",
    "    print('Yes') if i % 2 == 0 else print ('No')\n",
    "\n",
    "check_even(2643984)\n",
    "check_even(3)"
   ]
  },
  {
   "cell_type": "code",
   "execution_count": 60,
   "metadata": {},
   "outputs": [
    {
     "name": "stdout",
     "output_type": "stream",
     "text": [
      "True\n"
     ]
    }
   ],
   "source": [
    "#Exercise 19\n",
    "\n",
    "def is_age_in(list, age):\n",
    "    return True if age in list else False\n",
    "\n",
    "\n",
    "ages = [20, 24, 14, 9, 12, 13, 25, 23, 40, 11]\n",
    "\n",
    "print(is_age_in(ages, 9))"
   ]
  },
  {
   "cell_type": "code",
   "execution_count": 64,
   "metadata": {},
   "outputs": [
    {
     "name": "stdout",
     "output_type": "stream",
     "text": [
      "[12, 45]\n"
     ]
    }
   ],
   "source": [
    "#Set 1.2\n",
    "\n",
    "def array_diff(list_a, list_b):\n",
    "    new_list = []\n",
    "    for a in list_a:\n",
    "        if a not in list_b:\n",
    "            new_list.append(a)\n",
    "\n",
    "    return new_list\n",
    "\n",
    "berlin = [15, 13, 16, 18, 19, 10, 12, 45 ]\n",
    "munich = [7, 13, 15, 20, 19, 18, 10, 16]\n",
    "\n",
    "print(array_diff(berlin, munich))"
   ]
  },
  {
   "cell_type": "code",
   "execution_count": 69,
   "metadata": {},
   "outputs": [
    {
     "name": "stdout",
     "output_type": "stream",
     "text": [
      "Killian, Muayad, Chris, Milan, Okan, Rob, Susan, Yazdan & Arjun\n"
     ]
    }
   ],
   "source": [
    "#Set 1.3\n",
    "\n",
    "def sep(list):\n",
    "    list_l = len(list)\n",
    "    name_string = \"\"\n",
    "    for i in range(0, list_l-2):\n",
    "        name_string = name_string + list[i] + \", \" \n",
    "    name_string = name_string + list[-2] + \" & \" + list[-1]\n",
    "    return name_string\n",
    "\n",
    "name_list = [\"Killian\", \"Muayad\", \"Chris\", \"Milan\", \"Okan\", \"Rob\", \"Susan\", \"Yazdan\", \"Arjun\"]\n",
    "\n",
    "print(sep(name_list))"
   ]
  },
  {
   "cell_type": "code",
   "execution_count": 73,
   "metadata": {},
   "outputs": [
    {
     "name": "stdout",
     "output_type": "stream",
     "text": [
      "[1, 2, 123]\n"
     ]
    }
   ],
   "source": [
    "#Set 1.4\n",
    "\n",
    "def filter_list(list):\n",
    "    new_list = []\n",
    "    [new_list.append(x) for x in list if isinstance(x, int)]   \n",
    "    return new_list\n",
    "\n",
    "list_x = [1, 2, 'aasf', '1', '123', 123]\n",
    "\n",
    "print(filter_list(list_x))\n"
   ]
  },
  {
   "cell_type": "code",
   "execution_count": 76,
   "metadata": {},
   "outputs": [
    {
     "name": "stdout",
     "output_type": "stream",
     "text": [
      "5\n"
     ]
    }
   ],
   "source": [
    "#Set 1.5\n",
    "\n",
    "find_it = [20,1,-1,2,-2,3,3,5,5,1,2,4,20,4,-1,-2,5]\n",
    "new_list = []\n",
    "def find_odd(list):\n",
    "    for n in list:\n",
    "        if list.count(n) % 2 != 0:\n",
    "            return n\n",
    "\n",
    "print(find_odd(find_it))"
   ]
  },
  {
   "cell_type": "code",
   "execution_count": 77,
   "metadata": {},
   "outputs": [
    {
     "name": "stdout",
     "output_type": "stream",
     "text": [
      "True\n",
      "False\n"
     ]
    }
   ],
   "source": [
    "#Set 1.6\n",
    "\n",
    "string_1 = \"ooxx\"\n",
    "string_2 = \"xooxx\"\n",
    "\n",
    "def same_ox(string):\n",
    "    return string.count(\"o\") == string.count('x')\n",
    "\n",
    "print(same_ox(string_1))\n",
    "print(same_ox(string_2))"
   ]
  },
  {
   "cell_type": "code",
   "execution_count": 105,
   "metadata": {},
   "outputs": [
    {
     "name": "stdout",
     "output_type": "stream",
     "text": [
      "False\n"
     ]
    }
   ],
   "source": [
    "#Set 1.7\n",
    "\n",
    "def validate_pin(string):\n",
    "    str_l = len(string)\n",
    "    if str_l == 4 or str_l == 6:\n",
    "        for char in string:\n",
    "            if not char.isdigit():\n",
    "                return False\n",
    "        return True\n",
    "    else:\n",
    "        return False\n",
    "\n",
    "pin = \"124ff4\"\n",
    "\n",
    "print(validate_pin(pin))"
   ]
  },
  {
   "cell_type": "code",
   "execution_count": 6,
   "metadata": {},
   "outputs": [
    {
     "name": "stdout",
     "output_type": "stream",
     "text": [
      "1\n"
     ]
    }
   ],
   "source": [
    "#Set 1.8\n",
    "\n",
    "words_str = \"apple pineapple watermelon lemon tea i\"\n",
    "\n",
    "words_list = words_str.split(' ')\n",
    "\n",
    "min_len = len(words_list[0])\n",
    "min_len_list = []\n",
    "for word in words_list[1:]:\n",
    "    if len(word) < min_len:\n",
    "        min_len = len(word)\n",
    "\n",
    "print(min_len)"
   ]
  },
  {
   "cell_type": "code",
   "execution_count": 23,
   "metadata": {},
   "outputs": [
    {
     "name": "stdout",
     "output_type": "stream",
     "text": [
      "P\n"
     ]
    }
   ],
   "source": [
    "#Set 1.9\n",
    "\n",
    "def missing_letter(list):\n",
    "    letter = ''\n",
    "    for i in range(1, len(list)):\n",
    "        if ord(list[i]) - 1 != ord(list[i-1]):\n",
    "           letter = chr(ord(list[i])-1)\n",
    "    return letter \n",
    "\n",
    "list = ['O', 'Q', 'R', 'S']\n",
    "\n",
    "print(missing_letter(list))"
   ]
  },
  {
   "cell_type": "code",
   "execution_count": 24,
   "metadata": {},
   "outputs": [
    {
     "name": "stdout",
     "output_type": "stream",
     "text": [
      "['Ryan', 'Yous']\n"
     ]
    }
   ],
   "source": [
    "#Set 1.10\n",
    "\n",
    "names = ['Ryan', 'Kieran', 'Jason', 'Yous']\n",
    "new_list = []\n",
    "\n",
    "for name in names:\n",
    "    if len(name) == 4:\n",
    "        new_list.append(name)\n",
    "\n",
    "print(new_list)"
   ]
  },
  {
   "cell_type": "code",
   "execution_count": 34,
   "metadata": {},
   "outputs": [
    {
     "name": "stdout",
     "output_type": "stream",
     "text": [
      "[('a', 5), ('b', 2), ('r', 2), ('c', 1), ('d', 1)]\n"
     ]
    }
   ],
   "source": [
    "#Set 2.1\n",
    "\n",
    "characters = 'abracadabra'\n",
    "ordered_count = []\n",
    "for char in characters:\n",
    "    item = (char, characters.count(char))\n",
    "    if item not in ordered_count:\n",
    "        ordered_count.append(item)\n",
    "\n",
    "\n",
    "print(ordered_count)"
   ]
  },
  {
   "cell_type": "code",
   "execution_count": 10,
   "metadata": {},
   "outputs": [
    {
     "name": "stdout",
     "output_type": "stream",
     "text": [
      "False\n"
     ]
    }
   ],
   "source": [
    "#Set 2.2\n",
    "\n",
    "def is_nar(n):\n",
    "    l = len(n)\n",
    "    s = 0\n",
    "    for d in n:\n",
    "        s += pow(int(d), l)\n",
    "    return int(n) == s\n",
    "\n",
    "number = \"1634\"\n",
    "\n",
    "print(is_nar(number))\n",
    "\n"
   ]
  },
  {
   "cell_type": "code",
   "execution_count": 19,
   "metadata": {},
   "outputs": [
    {
     "name": "stdout",
     "output_type": "stream",
     "text": [
      "False\n"
     ]
    }
   ],
   "source": [
    "#Set 2.3\n",
    "\n",
    "def is_pangram(string):\n",
    "    count = 0\n",
    "    string.lower()\n",
    "    if len(string) >= 26:\n",
    "        for i in range(0, 26):\n",
    "            if chr(ord('a')+i) in string:\n",
    "                count += 1 \n",
    "\n",
    "            \n",
    "    return count == 26\n",
    "\n",
    "string = \"The quick brown fox jumps over the lazy dog\"\n",
    "print(is_pangram(string))"
   ]
  },
  {
   "cell_type": "code",
   "execution_count": null,
   "metadata": {},
   "outputs": [],
   "source": [
    "#Set 2.4 (Skipped beacuse it's easy)\n",
    "#Set 3.1 (Skipped because the task is confusing)"
   ]
  },
  {
   "cell_type": "code",
   "execution_count": 27,
   "metadata": {},
   "outputs": [
    {
     "name": "stdout",
     "output_type": "stream",
     "text": [
      "[20, 37, 21]\n"
     ]
    }
   ],
   "source": [
    "#Set 3.2\n",
    "\n",
    "def session(list, n):\n",
    "    new_list = []\n",
    "    for num in list:\n",
    "        if new_list.count(num) < n:\n",
    "            new_list.append(num)\n",
    "    return new_list\n",
    "\n",
    "list = [20, 37, 20, 21]\n",
    "\n",
    "print(session(list, 1))\n"
   ]
  },
  {
   "cell_type": "code",
   "execution_count": 33,
   "metadata": {},
   "outputs": [
    {
     "name": "stdout",
     "output_type": "stream",
     "text": [
      "20 8 5 19 21 14 19 5 20 19 5 20 19 1 20 20 23 5 12 22 5 15 3 12 15 3 11 \n"
     ]
    }
   ],
   "source": [
    "#Set 3.3\n",
    "\n",
    "def alph_pos(string):\n",
    "    new_string = ''\n",
    "    for char in string:\n",
    "        pos = ord(char.upper())\n",
    "        if pos > 64 and pos < 91:\n",
    "            new_string += str((pos - 64)) + ' '\n",
    "    return new_string\n",
    "\n",
    "string = \"The sunset sets at twelve o’ clock.\"\n",
    "\n",
    "print(alph_pos(string))"
   ]
  },
  {
   "cell_type": "code",
   "execution_count": 42,
   "metadata": {},
   "outputs": [
    {
     "name": "stdout",
     "output_type": "stream",
     "text": [
      "9\n"
     ]
    }
   ],
   "source": [
    "#Set 3.4\n",
    "\n",
    "def eveness(list):\n",
    "    i = 0\n",
    "    while i < len(list):\n",
    "        if (list[i] % 2) != (list[i+1] % 2):\n",
    "            return i + 2\n",
    "        i += 1\n",
    "\n",
    "list = [1, 3, 1, 1, 3, 5, 77, 2345, 78]\n",
    "print(eveness(list))\n",
    "    \n",
    "\n"
   ]
  },
  {
   "cell_type": "code",
   "execution_count": 47,
   "metadata": {},
   "outputs": [
    {
     "name": "stdout",
     "output_type": "stream",
     "text": [
      "True\n"
     ]
    }
   ],
   "source": [
    "#Set 3.5\n",
    "\n",
    "def scramble (str1, str2):\n",
    "    if len(str1) >= len(str2):\n",
    "        s_str = str2\n",
    "        l_str = str1\n",
    "    else:\n",
    "        s_str = str1\n",
    "        l_str = str2\n",
    "    for c in s_str:\n",
    "        if c not in l_str:\n",
    "            return False\n",
    "    return True\n",
    "\n",
    "print(scramble('cedewaraaossoqqyt', 'codewars'))\n"
   ]
  },
  {
   "cell_type": "code",
   "execution_count": 49,
   "metadata": {},
   "outputs": [
    {
     "name": "stdout",
     "output_type": "stream",
     "text": [
      "6\n"
     ]
    }
   ],
   "source": [
    "#Set 3.6\n",
    "\n",
    "def max_seq(list):\n",
    "    sum = 0\n",
    "    max_sum = 0\n",
    "    for n in list:\n",
    "        sum = max(0, sum + n)        # 0, 1, 0, 4, 3, 5, 6, 1, 5\n",
    "        max_sum = max(max_sum, sum)  # 0, 1, 1, 4, 4, 5, 6, 6, 6\n",
    "    return max_sum\n",
    "\n",
    "seq = [-2, 1, -3, 4, -1, 2, 1, -5, 4]\n",
    "\n",
    "print(max_seq(seq))"
   ]
  },
  {
   "cell_type": "code",
   "execution_count": 54,
   "metadata": {},
   "outputs": [
    {
     "name": "stdout",
     "output_type": "stream",
     "text": [
      "10\n"
     ]
    }
   ],
   "source": [
    "#Set 4.1\n",
    "\n",
    "def number_of_years(pop, per, new, tar):\n",
    "    n = 0\n",
    "    i = pop\n",
    "    while i < tar:\n",
    "        i += i * per  / 100 + new\n",
    "        n += 1\n",
    "    return n\n",
    "\n",
    "print(number_of_years(1500000, 2.5, 10000, 2000000))"
   ]
  },
  {
   "cell_type": "code",
   "execution_count": 13,
   "metadata": {},
   "outputs": [
    {
     "name": "stderr",
     "output_type": "stream",
     "text": [
      "[nltk_data] Downloading package words to\n",
      "[nltk_data]     C:\\Users\\milan\\AppData\\Roaming\\nltk_data...\n",
      "[nltk_data]   Package words is already up-to-date!\n"
     ]
    }
   ],
   "source": [
    "import nltk\n",
    "nltk.download('words')\n",
    "english_vocab = set(w.lower() for w in nltk.corpus.words.words())\n"
   ]
  },
  {
   "cell_type": "code",
   "execution_count": 73,
   "metadata": {},
   "outputs": [
    {
     "name": "stdout",
     "output_type": "stream",
     "text": [
      "['happy', 'night', 'z', 'i']\n"
     ]
    }
   ],
   "source": [
    "#Set 4.2\n",
    "\n",
    "def max_match(string):\n",
    "    tokens = []\n",
    "    i = 0\n",
    "    while i < len(string):\n",
    "        maxWord = \"\"\n",
    "        for j in range(i, len(string)):\n",
    "            tempWord = string[i:j+1]\n",
    "            if tempWord in english_vocab and len(tempWord) > len(maxWord):\n",
    "                maxWord = tempWord\n",
    "        i = i+len(maxWord)\n",
    "        tokens.append(maxWord)\n",
    "    return tokens\n",
    "\n",
    "string = \"happynightzi\"\n",
    "\n",
    "print(max_match(string))"
   ]
  },
  {
   "cell_type": "code",
   "execution_count": 99,
   "metadata": {},
   "outputs": [
    {
     "name": "stdout",
     "output_type": "stream",
     "text": [
      "False\n"
     ]
    }
   ],
   "source": [
    "#Set 4.3\n",
    "\n",
    "def is_circ_sorted(array):\n",
    "    for i in range(1, len(array)):\n",
    "        while array[i] > array [i-1]:\n",
    "            i += 1\n",
    "        else:\n",
    "            if array[i:] + array[0:i] == sorted(array):\n",
    "                return True\n",
    "            else:\n",
    "                return False\n",
    "    return False\n",
    "\n",
    "array = [6, 7, 4, 8]\n",
    "print(is_circ_sorted(array))"
   ]
  },
  {
   "cell_type": "code",
   "execution_count": 2,
   "metadata": {},
   "outputs": [
    {
     "name": "stdout",
     "output_type": "stream",
     "text": [
      "False\n"
     ]
    }
   ],
   "source": [
    "#Set 4.4\n",
    "\n",
    "def got_change(que):\n",
    "    cash = [0, 0, 0]\n",
    "    for bill in que:\n",
    "        if bill == 25:\n",
    "            cash[0] += 1\n",
    "        elif bill == 50 and cash[0] > 0:\n",
    "            cash[0] -= 1\n",
    "            cash[1] += 1\n",
    "        elif bill == 100 and cash[0] > 0 and cash[1] > 0:\n",
    "            cash[0] -= 1\n",
    "            cash[1] -= 1\n",
    "            cash[2] += 1\n",
    "        elif bill == 100 and cash[0] >= 3:\n",
    "            cash[0] -= 3\n",
    "            cash[2] += 1\n",
    "        else:\n",
    "            return False\n",
    "    return True\n",
    "\n",
    "tickets = [25, 25, 100]\n",
    "print(got_change(tickets))\n"
   ]
  },
  {
   "cell_type": "code",
   "execution_count": 15,
   "metadata": {},
   "outputs": [
    {
     "name": "stdout",
     "output_type": "stream",
     "text": [
      "s22ees,fewf1313es,wdwdw111\n",
      "231,2d-9543\n"
     ]
    }
   ],
   "source": [
    "#Set 4.5\n",
    "\n",
    "def reverse_strings(t, *strings):\n",
    "    if t < 1 or t > 10 or len(strings) > 2000:\n",
    "        return False\n",
    "    else:\n",
    "        for i in range(0, t):\n",
    "            list = strings[i].split(',')\n",
    "            rev_list = [word[::-1] for word in list]\n",
    "            print (\",\".join(rev_list))\n",
    "\n",
    "t = 2\n",
    "string_1 = 'see22s,se3131fwef,111wdwdw'\n",
    "string_2 = '132,3459-d2'\n",
    "reverse_strings(2, string_1, string_2)\n"
   ]
  },
  {
   "cell_type": "code",
   "execution_count": 50,
   "metadata": {},
   "outputs": [
    {
     "name": "stdout",
     "output_type": "stream",
     "text": [
      "4\n"
     ]
    }
   ],
   "source": [
    "#Set 4.6\n",
    "\n",
    "def persistence(num):\n",
    "    if num < 10: return 0\n",
    "    while num > 9:\n",
    "        digits = str(num)\n",
    "        multi = 1 \n",
    "        for d in digits:\n",
    "            multi *= int(d)\n",
    "        num = multi\n",
    "    return multi\n",
    "        \n",
    "print(persistence(39))\n"
   ]
  },
  {
   "cell_type": "code",
   "execution_count": 4,
   "metadata": {},
   "outputs": [
    {
     "name": "stdout",
     "output_type": "stream",
     "text": [
      "62.50\n"
     ]
    }
   ],
   "source": [
    "#Set 4.7\n",
    "\n",
    "def calculate_optimal_fare(dis, time, s1, r, s2):\n",
    "    t = time / 60\n",
    "    t1 = dis / s1 * 60\n",
    "    t2 = dis / s2 * 60\n",
    "    d1 = (t * s1 * s2 - s1 * dis) / (s2 - s1)\n",
    "    if t2 <= time:\n",
    "        return \"00.0\"\n",
    "    elif t1 > time:\n",
    "        return False\n",
    "    else:\n",
    "        return \"%.2f\" % (r * d1)\n",
    "\n",
    "print(calculate_optimal_fare(10, 50, 30, 10, 6))"
   ]
  }
 ],
 "metadata": {
  "kernelspec": {
   "display_name": "Python 3",
   "language": "python",
   "name": "python3"
  },
  "language_info": {
   "codemirror_mode": {
    "name": "ipython",
    "version": 3
   },
   "file_extension": ".py",
   "mimetype": "text/x-python",
   "name": "python",
   "nbconvert_exporter": "python",
   "pygments_lexer": "ipython3",
   "version": "3.11.3"
  },
  "orig_nbformat": 4
 },
 "nbformat": 4,
 "nbformat_minor": 2
}
