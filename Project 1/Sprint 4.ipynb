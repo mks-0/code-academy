{
 "cells": [
  {
   "cell_type": "code",
   "execution_count": 29,
   "metadata": {},
   "outputs": [],
   "source": [
    "import numpy as np\n",
    "import pandas as pd\n",
    "import random\n",
    "\n",
    "def func (data):\n",
    "    m = data.mean(numeric_only=True)\n",
    "    s = data.std(numeric_only=True)\n",
    "    mn = m - 2 * s\n",
    "    mx = m + 2 * s\n",
    "    return random.uniform(mn, mx)\n",
    "\n",
    "df = pd.read_csv('Sprint 1 - Movies Data Set Analysis/movies.csv') # Gathering data\n",
    "df = df.drop(columns=['Summary']) # remove the column \"Summary\"\n",
    "df.columns = df.columns.str.lower().str.replace(' ', '_') # Make all the column names lowercase and replace spaces with underscores\n",
    "df.drop(df.tail(1).index, inplace=True) # Remove the last row of the DF (containing NaNs)"
   ]
  },
  {
   "cell_type": "code",
   "execution_count": 30,
   "metadata": {},
   "outputs": [
    {
     "name": "stdout",
     "output_type": "stream",
     "text": [
      "     movieid                                  title mpaa_rating       budget  \\\n",
      "610      611         Godzilla: King of the Monsters       PG-13  200000000.0   \n",
      "611      612                            Toy Story 4           G  200000000.0   \n",
      "612      613  Fast & Furious Presents: Hobbs & Shaw       PG-13  200000000.0   \n",
      "613      614                          The Lion King          PG  250000000.0   \n",
      "614      615                      Avengers: Endgame       PG-13  356000000.0   \n",
      "\n",
      "            gross release_date      genre  runtime  rating  rating_count  \n",
      "610  3.859000e+08   2019-05-13  Adventure    132.0     NaN           NaN  \n",
      "611  1.062000e+09   2019-06-11  Animation    100.0     NaN           NaN  \n",
      "612  7.594000e+08   2019-07-13   Thriller    136.0     NaN           NaN  \n",
      "613  1.632000e+09   2019-07-09      Drama    118.0     NaN           NaN  \n",
      "614  2.796000e+09   2019-04-22     Action    181.0     NaN           NaN  \n"
     ]
    }
   ],
   "source": [
    "print(df.tail(5)) # See the first five rows of the Data Frame"
   ]
  },
  {
   "cell_type": "code",
   "execution_count": 27,
   "metadata": {},
   "outputs": [],
   "source": [
    "df.fillna(func(df), inplace=True)"
   ]
  },
  {
   "cell_type": "code",
   "execution_count": null,
   "metadata": {},
   "outputs": [],
   "source": [
    "df.fillna()np.random.uniform((df.mean(numeric_only=True) - 2 * df.std(numeric_only=True)), (df.mean(numeric_only=True) + 2 * df.std(numeric_only=True)))"
   ]
  },
  {
   "cell_type": "code",
   "execution_count": 15,
   "metadata": {},
   "outputs": [
    {
     "name": "stdout",
     "output_type": "stream",
     "text": [
      "     movieid  title  mpaa_rating  budget  gross  release_date  genre  runtime  \\\n",
      "610      NaN    NaN          NaN     NaN    NaN           NaN    NaN      NaN   \n",
      "611      NaN    NaN          NaN     NaN    NaN           NaN    NaN      NaN   \n",
      "612      NaN    NaN          NaN     NaN    NaN           NaN    NaN      NaN   \n",
      "613      NaN    NaN          NaN     NaN    NaN           NaN    NaN      NaN   \n",
      "614      NaN    NaN          NaN     NaN    NaN           NaN    NaN      NaN   \n",
      "\n",
      "     rating  rating_count  \n",
      "610     NaN           NaN  \n",
      "611     NaN           NaN  \n",
      "612     NaN           NaN  \n",
      "613     NaN           NaN  \n",
      "614     NaN           NaN  \n"
     ]
    }
   ],
   "source": [
    "print(df.tail(5)) # See the first five rows of the Data Frame"
   ]
  },
  {
   "cell_type": "code",
   "execution_count": null,
   "metadata": {},
   "outputs": [],
   "source": [
    "print(df.shape) # Shape of the Data Frame"
   ]
  },
  {
   "cell_type": "code",
   "execution_count": null,
   "metadata": {},
   "outputs": [],
   "source": [
    "print(df.dtypes) # Column names with their data types"
   ]
  },
  {
   "cell_type": "code",
   "execution_count": null,
   "metadata": {},
   "outputs": [],
   "source": [
    "print(df.columns) # Column names"
   ]
  },
  {
   "cell_type": "code",
   "execution_count": null,
   "metadata": {},
   "outputs": [],
   "source": [
    "print(df.isna().sum()) # Column names with their NaN count"
   ]
  }
 ],
 "metadata": {
  "kernelspec": {
   "display_name": "base",
   "language": "python",
   "name": "python3"
  },
  "language_info": {
   "codemirror_mode": {
    "name": "ipython",
    "version": 3
   },
   "file_extension": ".py",
   "mimetype": "text/x-python",
   "name": "python",
   "nbconvert_exporter": "python",
   "pygments_lexer": "ipython3",
   "version": "3.11.3"
  },
  "orig_nbformat": 4
 },
 "nbformat": 4,
 "nbformat_minor": 2
}
